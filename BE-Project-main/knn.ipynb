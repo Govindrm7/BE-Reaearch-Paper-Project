{
 "cells": [
  {
   "cell_type": "code",
   "execution_count": 5,
   "id": "da6b481b",
   "metadata": {},
   "outputs": [
    {
     "name": "stdout",
     "output_type": "stream",
     "text": [
      "Accuracy: 0.938\n",
      "Confusion matrix:\n",
      " [[191  13]\n",
      " [ 18 278]]\n"
     ]
    }
   ],
   "source": [
    "import numpy as np\n",
    "import pandas as pd\n",
    "import matplotlib.pyplot as plt\n",
    "import seaborn as sns\n",
    "import os\n",
    "import cv2\n",
    "from sklearn.model_selection import train_test_split\n",
    "from sklearn.neighbors import KNeighborsClassifier\n",
    "from sklearn.metrics import accuracy_score, confusion_matrix\n",
    "\n",
    "# Set path to the folders containing the images\n",
    "tumor_path = r\"F:\\Project1\\images\\New Dataset\\FinalAdd\\BBHE\\Yes\"\n",
    "non_tumor_path = r\"F:\\Project1\\images\\New Dataset\\FinalAdd\\BBHE\\No\"\n",
    "\n",
    "# Load the images into arrays and create labels\n",
    "images = []\n",
    "labels = []\n",
    "\n",
    "# Load tumor images\n",
    "for file in os.listdir(tumor_path):\n",
    "    if file.endswith(\".jpg\"):\n",
    "        img = cv2.imread(os.path.join(tumor_path, file), cv2.IMREAD_GRAYSCALE)\n",
    "        img = cv2.resize(img, (256, 256))  # Resize to a standard size\n",
    "        images.append(img)\n",
    "        labels.append(1)  # Tumor class label\n",
    "\n",
    "# Load non-tumor images\n",
    "for file in os.listdir(non_tumor_path):\n",
    "    if file.endswith(\".jpg\"):\n",
    "        img = cv2.imread(os.path.join(non_tumor_path, file), cv2.IMREAD_GRAYSCALE)\n",
    "        img = cv2.resize(img, (256, 256))  # Resize to a standard size\n",
    "        images.append(img)\n",
    "        labels.append(0)  # Non-tumor class label\n",
    "\n",
    "# Convert the images and labels to NumPy arrays\n",
    "images = np.array(images)\n",
    "labels = np.array(labels)\n",
    "\n",
    "# Split the data into training and validation sets\n",
    "X_train, X_test, y_train, y_test = train_test_split(images, labels, test_size=0.2, random_state=42)\n",
    "\n",
    "# Reshape the training and testing data\n",
    "X_train = X_train.reshape(X_train.shape[0], -1)\n",
    "X_test = X_test.reshape(X_test.shape[0], -1)\n",
    "\n",
    "# Train the k-NN model\n",
    "k = 5  # Number of neighbors\n",
    "model = KNeighborsClassifier(n_neighbors=k)\n",
    "model.fit(X_train, y_train)\n",
    "\n",
    "# Make predictions on the validation set\n",
    "y_pred = model.predict(X_test)\n",
    "\n",
    "# Evaluate the model performance\n",
    "accuracy = accuracy_score(y_test, y_pred)\n",
    "confusion = confusion_matrix(y_test, y_pred)\n",
    "print(\"Accuracy:\", accuracy)\n",
    "print(\"Confusion matrix:\\n\", confusion)\n"
   ]
  },
  {
   "cell_type": "code",
   "execution_count": null,
   "id": "a98a862d",
   "metadata": {},
   "outputs": [],
   "source": []
  }
 ],
 "metadata": {
  "kernelspec": {
   "display_name": "Python 3 (ipykernel)",
   "language": "python",
   "name": "python3"
  },
  "language_info": {
   "codemirror_mode": {
    "name": "ipython",
    "version": 3
   },
   "file_extension": ".py",
   "mimetype": "text/x-python",
   "name": "python",
   "nbconvert_exporter": "python",
   "pygments_lexer": "ipython3",
   "version": "3.10.4"
  }
 },
 "nbformat": 4,
 "nbformat_minor": 5
}
