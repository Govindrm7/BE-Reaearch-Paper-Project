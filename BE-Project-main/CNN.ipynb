{
 "cells": [
  {
   "cell_type": "code",
   "execution_count": 19,
   "id": "c38a69eb",
   "metadata": {},
   "outputs": [],
   "source": [
    "from keras.layers import Conv2D, MaxPool2D, Dropout, Flatten, Dense, BatchNormalization, GlobalAvgPool2D\n",
    "from keras.models import Sequential\n",
    "from keras.preprocessing.image import ImageDataGenerator\n",
    "import keras\n",
    "from keras.models import load_model\n",
    "from tensorflow.keras.utils import load_img, img_to_array\n",
    "import numpy as np\n",
    "import os\n",
    "import glob\n",
    "import cv2\n",
    "from sklearn.model_selection import train_test_split\n",
    "import shutil\n",
    "import matplotlib.pyplot as plt\n"
   ]
  },
  {
   "cell_type": "code",
   "execution_count": 20,
   "id": "65f5985f",
   "metadata": {},
   "outputs": [],
   "source": [
    "# Load the MRI brain images and labels\n",
    "images = []\n",
    "labels = []\n",
    "for filename in glob.glob(r'F:\\Project1\\images\\New Dataset\\Detection\\CLAHE-RMSHE\\Tumor\\*.jpg'):\n",
    "    img = plt.imread(filename)\n",
    "    images.append(img)\n",
    "    labels.append(1)\n",
    "\n",
    "for filename in glob.glob(r'F:\\Project1\\images\\New Dataset\\Detection\\CLAHE-RMSHE\\No Tumor\\*.jpg'):\n",
    "    img = plt.imread(filename)\n",
    "    images.append(img)\n",
    "    labels.append(0)\n",
    "\n",
    "# # Split the data into training, validation, and testing sets\n",
    "train_images, test_images, train_labels, test_labels = train_test_split(images, labels, test_size=0.2, random_state=42)\n",
    "train_images, val_images, train_labels, val_labels = train_test_split(train_images, train_labels, test_size=0.2, random_state=42)\n",
    "\n",
    "# # Save the split data in separate directories\n",
    "for i, image in enumerate(train_images):\n",
    "    path1 = r\"F:\\Project1\\images\\New Dataset\\Detection\\CLAHE-RMSHE\\Train\\Tumor/\"+str(i)+\".jpg\"\n",
    "    path2 = r\"F:\\Project1\\images\\New Dataset\\Detection\\CLAHE-RMSHE\\Train\\No Tumor/\"+str(i)+\".jpg\"\n",
    "    if train_labels[i] == 1:\n",
    "        cv2.imwrite(path1, image)\n",
    "    else:\n",
    "        cv2.imwrite(path2, image)\n",
    "        \n",
    "for i, image in enumerate(test_images):\n",
    "    path1 = r\"F:\\Project1\\images\\New Dataset\\Detection\\CLAHE-RMSHE\\Test\\Tumor/\"+str(i)+\".jpg\"\n",
    "    path2 = r\"F:\\Project1\\images\\New Dataset\\Detection\\CLAHE-RMSHE\\Test\\No Tumor/\"+str(i)+\".jpg\"\n",
    "    if test_labels[i] == 1:\n",
    "        cv2.imwrite(path1, image)\n",
    "    else:\n",
    "        cv2.imwrite(path2, image)\n",
    "        \n",
    "for i, image in enumerate(val_images):\n",
    "    path1 = r\"F:\\Project1\\images\\New Dataset\\Detection\\CLAHE-RMSHE\\Validation\\Tumor/\"+str(i)+\".jpg\"\n",
    "    path2 = r\"F:\\Project1\\images\\New Dataset\\Detection\\CLAHE-RMSHE\\Validation\\No Tumor/\"+str(i)+\".jpg\"\n",
    "    if val_labels[i] == 1:\n",
    "        cv2.imwrite(path1, image)\n",
    "    else:\n",
    "        cv2.imwrite(path2, image)"
   ]
  },
  {
   "cell_type": "code",
   "execution_count": 21,
   "id": "196fbd37",
   "metadata": {},
   "outputs": [
    {
     "name": "stdout",
     "output_type": "stream",
     "text": [
      "Model: \"sequential_1\"\n",
      "_________________________________________________________________\n",
      " Layer (type)                Output Shape              Param #   \n",
      "=================================================================\n",
      " conv2d_4 (Conv2D)           (None, 222, 222, 16)      448       \n",
      "                                                                 \n",
      " conv2d_5 (Conv2D)           (None, 220, 220, 36)      5220      \n",
      "                                                                 \n",
      " max_pooling2d_3 (MaxPooling  (None, 110, 110, 36)     0         \n",
      " 2D)                                                             \n",
      "                                                                 \n",
      " conv2d_6 (Conv2D)           (None, 108, 108, 64)      20800     \n",
      "                                                                 \n",
      " max_pooling2d_4 (MaxPooling  (None, 54, 54, 64)       0         \n",
      " 2D)                                                             \n",
      "                                                                 \n",
      " conv2d_7 (Conv2D)           (None, 52, 52, 128)       73856     \n",
      "                                                                 \n",
      " max_pooling2d_5 (MaxPooling  (None, 26, 26, 128)      0         \n",
      " 2D)                                                             \n",
      "                                                                 \n",
      " dropout_2 (Dropout)         (None, 26, 26, 128)       0         \n",
      "                                                                 \n",
      " flatten_1 (Flatten)         (None, 86528)             0         \n",
      "                                                                 \n",
      " dense_2 (Dense)             (None, 64)                5537856   \n",
      "                                                                 \n",
      " dropout_3 (Dropout)         (None, 64)                0         \n",
      "                                                                 \n",
      " dense_3 (Dense)             (None, 1)                 65        \n",
      "                                                                 \n",
      "=================================================================\n",
      "Total params: 5,638,245\n",
      "Trainable params: 5,638,245\n",
      "Non-trainable params: 0\n",
      "_________________________________________________________________\n"
     ]
    }
   ],
   "source": [
    "#CNN Model\n",
    "\n",
    "model=Sequential()\n",
    "\n",
    "model.add(Conv2D(filters=16, kernel_size= (3,3), activation= 'relu', input_shape = (224,224,3)))\n",
    "\n",
    "model.add(Conv2D(filters=36, kernel_size= (3,3), activation= 'relu'))\n",
    "model.add(MaxPool2D(pool_size=(2,2)))\n",
    "\n",
    "model.add(Conv2D(filters=64, kernel_size= (3,3), activation= 'relu'))\n",
    "model.add(MaxPool2D(pool_size=(2,2)))\n",
    "\n",
    "model.add(Conv2D(filters=128, kernel_size= (3,3), activation= 'relu'))\n",
    "model.add(MaxPool2D(pool_size=(2,2)))\n",
    "\n",
    "model.add(Dropout(rate=0.25))\n",
    "\n",
    "model.add(Flatten())\n",
    "model.add(Dense(units=64, activation='relu'))\n",
    "model.add(Dropout(rate=0.25))\n",
    "model.add(Dense(units=1, activation='sigmoid'))\n",
    "\n",
    "model.summary()"
   ]
  },
  {
   "cell_type": "code",
   "execution_count": 22,
   "id": "8a68482a",
   "metadata": {},
   "outputs": [],
   "source": [
    "model.compile(optimizer='adam', loss=keras.losses.binary_crossentropy, metrics=['accuracy'])"
   ]
  },
  {
   "cell_type": "code",
   "execution_count": 23,
   "id": "f2518665",
   "metadata": {},
   "outputs": [],
   "source": [
    "def preprocessingImages1(path):\n",
    "    \"\"\"\n",
    "    input : Path\n",
    "    output : Pre processed images\n",
    "    \"\"\"\n",
    "    image_data = ImageDataGenerator(zoom_range=0.2, shear_range=0.2, rescale=1/255, horizontal_flip=True)\n",
    "    image = image_data.flow_from_directory(directory = path, target_size = (224,224), batch_size = 32, class_mode = 'binary')\n",
    "    \n",
    "    return image"
   ]
  },
  {
   "cell_type": "code",
   "execution_count": 24,
   "id": "fb4316f4",
   "metadata": {},
   "outputs": [
    {
     "name": "stdout",
     "output_type": "stream",
     "text": [
      "Found 128 images belonging to 2 classes.\n"
     ]
    }
   ],
   "source": [
    "#put training data location in path\n",
    "path = r\"F:\\Project1\\images\\New Dataset\\Detection\\CLAHE-RMSHE\\Train\"\n",
    "train_data = preprocessingImages1(path)"
   ]
  },
  {
   "cell_type": "code",
   "execution_count": 25,
   "id": "c7f96a7d",
   "metadata": {},
   "outputs": [],
   "source": [
    "def preprocessingImages2(path):\n",
    "    \"\"\"\n",
    "    input : Path\n",
    "    output : Pre processed images\n",
    "    \"\"\"\n",
    "    image_data = ImageDataGenerator(rescale=1/255)\n",
    "    image = image_data.flow_from_directory(directory = path, target_size = (224,224), batch_size = 32, class_mode = 'binary')\n",
    "    \n",
    "    return image"
   ]
  },
  {
   "cell_type": "code",
   "execution_count": 26,
   "id": "4ab53448",
   "metadata": {},
   "outputs": [
    {
     "name": "stdout",
     "output_type": "stream",
     "text": [
      "Found 40 images belonging to 2 classes.\n"
     ]
    }
   ],
   "source": [
    "#put test data location in path\n",
    "path = r\"F:\\Project1\\images\\New Dataset\\Detection\\CLAHE-RMSHE\\Test\"\n",
    "test_data = preprocessingImages2(path)"
   ]
  },
  {
   "cell_type": "code",
   "execution_count": 27,
   "id": "03c465b4",
   "metadata": {},
   "outputs": [
    {
     "name": "stdout",
     "output_type": "stream",
     "text": [
      "Found 32 images belonging to 2 classes.\n"
     ]
    }
   ],
   "source": [
    "#put validation data location in path\n",
    "path = r\"F:\\Project1\\images\\New Dataset\\Detection\\CLAHE-RMSHE\\Validation\"\n",
    "val_data = preprocessingImages2(path)"
   ]
  },
  {
   "cell_type": "code",
   "execution_count": 28,
   "id": "166698fb",
   "metadata": {},
   "outputs": [],
   "source": [
    "#Early stopping and model check point\n",
    "from keras.callbacks import ModelCheckpoint, EarlyStopping\n",
    "\n",
    "#early stopping\n",
    "es = EarlyStopping(monitor=\"val_loss\", min_delta=0.01, patience=6, verbose=1, mode=\"auto\")\n",
    "\n",
    "#model check point\n",
    "#save the best model as \"./bestmodel.h5\" and give path\n",
    "mc = ModelCheckpoint(monitor=\"val_accuracy\", filepath=\"./bestmodel.h5\", verbose=1, save_best_only=True, mode='auto')\n",
    "\n",
    "cd = [es,mc]"
   ]
  },
  {
   "cell_type": "code",
   "execution_count": 29,
   "id": "47ef0ac9",
   "metadata": {},
   "outputs": [
    {
     "name": "stderr",
     "output_type": "stream",
     "text": [
      "C:\\Users\\Rakesh\\AppData\\Local\\Temp\\ipykernel_29184\\789910006.py:2: UserWarning: `Model.fit_generator` is deprecated and will be removed in a future version. Please use `Model.fit`, which supports generators.\n",
      "  hs = model.fit_generator(generator=train_data, steps_per_epoch=2, epochs=4, verbose=1, validation_data=val_data, validation_steps=16, callbacks=cd)\n"
     ]
    },
    {
     "name": "stdout",
     "output_type": "stream",
     "text": [
      "Epoch 1/4\n",
      "2/2 [==============================] - ETA: 0s - loss: 0.6440 - accuracy: 0.5000WARNING:tensorflow:Your input ran out of data; interrupting training. Make sure that your dataset or generator can generate at least `steps_per_epoch * epochs` batches (in this case, 16 batches). You may need to use the repeat() function when building your dataset.\n",
      "\n",
      "Epoch 1: val_accuracy improved from -inf to 0.81250, saving model to .\\bestmodel.h5\n",
      "2/2 [==============================] - 10s 4s/step - loss: 0.6440 - accuracy: 0.5000 - val_loss: 0.4829 - val_accuracy: 0.8125\n",
      "Epoch 2/4\n",
      "2/2 [==============================] - ETA: 0s - loss: 0.7315 - accuracy: 0.6250WARNING:tensorflow:Early stopping conditioned on metric `val_loss` which is not available. Available metrics are: loss,accuracy\n",
      "WARNING:tensorflow:Can save best model only with val_accuracy available, skipping.\n",
      "2/2 [==============================] - 6s 3s/step - loss: 0.7315 - accuracy: 0.6250\n",
      "Epoch 3/4\n",
      "2/2 [==============================] - ETA: 0s - loss: 0.6131 - accuracy: 0.5938WARNING:tensorflow:Early stopping conditioned on metric `val_loss` which is not available. Available metrics are: loss,accuracy\n",
      "WARNING:tensorflow:Can save best model only with val_accuracy available, skipping.\n",
      "2/2 [==============================] - 6s 3s/step - loss: 0.6131 - accuracy: 0.5938\n",
      "Epoch 4/4\n",
      "2/2 [==============================] - ETA: 0s - loss: 0.6324 - accuracy: 0.7188WARNING:tensorflow:Early stopping conditioned on metric `val_loss` which is not available. Available metrics are: loss,accuracy\n",
      "WARNING:tensorflow:Can save best model only with val_accuracy available, skipping.\n",
      "2/2 [==============================] - 6s 3s/step - loss: 0.6324 - accuracy: 0.7188\n"
     ]
    }
   ],
   "source": [
    "#training\n",
    "hs = model.fit_generator(generator=train_data, steps_per_epoch=2, epochs=4, verbose=1, validation_data=val_data, validation_steps=16, callbacks=cd)"
   ]
  },
  {
   "cell_type": "code",
   "execution_count": 30,
   "id": "7510f734",
   "metadata": {},
   "outputs": [
    {
     "data": {
      "text/plain": [
       "dict_keys(['loss', 'accuracy', 'val_loss', 'val_accuracy'])"
      ]
     },
     "execution_count": 30,
     "metadata": {},
     "output_type": "execute_result"
    }
   ],
   "source": [
    "h = hs.history\n",
    "h.keys()"
   ]
  },
  {
   "cell_type": "code",
   "execution_count": 31,
   "id": "cf225fea",
   "metadata": {},
   "outputs": [],
   "source": [
    "from keras.models import load_model\n",
    "\n",
    "model = load_model(\"./bestmodel.h5\")"
   ]
  },
  {
   "cell_type": "code",
   "execution_count": 32,
   "id": "9ad411ec",
   "metadata": {},
   "outputs": [
    {
     "name": "stdout",
     "output_type": "stream",
     "text": [
      "WARNING:tensorflow:5 out of the last 8 calls to <function Model.make_test_function.<locals>.test_function at 0x000002448C9B55A0> triggered tf.function retracing. Tracing is expensive and the excessive number of tracings could be due to (1) creating @tf.function repeatedly in a loop, (2) passing tensors with different shapes, (3) passing Python objects instead of tensors. For (1), please define your @tf.function outside of the loop. For (2), @tf.function has reduce_retracing=True option that can avoid unnecessary retracing. For (3), please refer to https://www.tensorflow.org/guide/function#controlling_retracing and https://www.tensorflow.org/api_docs/python/tf/function for  more details.\n",
      "2/2 [==============================] - 1s 155ms/step - loss: 0.7630 - accuracy: 0.6000\n",
      "accuracy of our model is 0.6000000238418579\n"
     ]
    }
   ],
   "source": [
    "acc = model.evaluate(test_data)[1]\n",
    "print(f\"accuracy of our model is {acc}\")"
   ]
  },
  {
   "cell_type": "code",
   "execution_count": 15,
   "id": "fa76e22a",
   "metadata": {},
   "outputs": [
    {
     "data": {
      "text/plain": [
       "{'No Tumor': 0, 'Tumor': 1}"
      ]
     },
     "execution_count": 15,
     "metadata": {},
     "output_type": "execute_result"
    }
   ],
   "source": [
    "train_data.class_indices"
   ]
  },
  {
   "cell_type": "code",
   "execution_count": 16,
   "id": "6edd8489",
   "metadata": {},
   "outputs": [
    {
     "name": "stdout",
     "output_type": "stream",
     "text": [
      "1/1 [==============================] - 0s 481ms/step\n",
      "No Tumor Detected\n"
     ]
    }
   ],
   "source": [
    "from tensorflow.keras.utils import load_img, img_to_array\n",
    "import numpy as np\n",
    "path = \"./images/TEMP/brain_tumor_dataset/no/50 no.jpg\"\n",
    "img = load_img(path, target_size=(224, 224))\n",
    "input_arr = img_to_array(img)/255\n",
    "input_arr.shape\n",
    "\n",
    "input_arr  = np.expand_dims(input_arr, axis=0)\n",
    "pred = (model.predict(input_arr) > 0.5).astype(\"int32\")\n",
    "if pred[0][0]==0:\n",
    "    print(\"No Tumor Detected\")\n",
    "else:\n",
    "    print(\"Tumor Detected\")"
   ]
  },
  {
   "cell_type": "code",
   "execution_count": null,
   "id": "e381bbe5",
   "metadata": {},
   "outputs": [],
   "source": [
    "h = hs.history\n",
    "h.keys()\n",
    "from keras.models import load_model\n",
    "model = load_model(\"./bestmodel.h5\")\n",
    "acc = model.evaluate(test_data)[1]\n",
    "print(f\"accuracy of our model is {acc}\")"
   ]
  }
 ],
 "metadata": {
  "kernelspec": {
   "display_name": "Python 3 (ipykernel)",
   "language": "python",
   "name": "python3"
  },
  "language_info": {
   "codemirror_mode": {
    "name": "ipython",
    "version": 3
   },
   "file_extension": ".py",
   "mimetype": "text/x-python",
   "name": "python",
   "nbconvert_exporter": "python",
   "pygments_lexer": "ipython3",
   "version": "3.10.4"
  }
 },
 "nbformat": 4,
 "nbformat_minor": 5
}
